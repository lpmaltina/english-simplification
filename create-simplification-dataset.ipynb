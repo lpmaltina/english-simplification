{
  "nbformat": 4,
  "nbformat_minor": 0,
  "metadata": {
    "colab": {
      "provenance": []
    },
    "kernelspec": {
      "name": "python3",
      "display_name": "Python 3"
    },
    "language_info": {
      "name": "python"
    }
  },
  "cells": [
    {
      "cell_type": "code",
      "source": [
        "import pandas as pd\n",
        "import sqlite3\n",
        "from sklearn.model_selection import train_test_split"
      ],
      "metadata": {
        "id": "tS_WGLxNRYC9"
      },
      "execution_count": null,
      "outputs": []
    },
    {
      "cell_type": "code",
      "source": [
        "def read_table(db_path, table_name):\n",
        "    conn = sqlite3.connect(db_path)\n",
        "    table_content = pd.read_sql_query(f\"SELECT * FROM {table_name}\", conn)\n",
        "    conn.close()\n",
        "    return table_content"
      ],
      "metadata": {
        "id": "RnLpOt-j00dN"
      },
      "execution_count": null,
      "outputs": []
    },
    {
      "cell_type": "code",
      "source": [
        "def group_texts_by_heading(df):\n",
        "    d = {}\n",
        "\n",
        "    for i in range(len(news)):\n",
        "        row = news.iloc[i]\n",
        "        heading = row[\"heading\"]\n",
        "        level = row[\"level\"] - 1\n",
        "        text = row[\"article_text\"]\n",
        "        if heading not in d:\n",
        "            d[heading] = [\"\", \"\", \"\"]\n",
        "        d[heading][level] = text\n",
        "    \n",
        "    return d"
      ],
      "metadata": {
        "id": "HmJmp_pi1zeI"
      },
      "execution_count": null,
      "outputs": []
    },
    {
      "cell_type": "code",
      "source": [
        "def filter_texts(dct):\n",
        "    # leave only texts adapted for all 3 levels\n",
        "    X = []\n",
        "\n",
        "    for texts in dct.values():\n",
        "        if \"\" not in texts:\n",
        "            X.append(texts)\n",
        "    \n",
        "    return X"
      ],
      "metadata": {
        "id": "WOPKBZAe2JXc"
      },
      "execution_count": null,
      "outputs": []
    },
    {
      "cell_type": "code",
      "source": [
        "def get_train_dev_test(X):\n",
        "    X_train, X_test = train_test_split(X, test_size=0.2, random_state=42)\n",
        "    X_train, X_dev = train_test_split(X_train, test_size=0.25, random_state=42)\n",
        "    return X_train, X_dev, X_test"
      ],
      "metadata": {
        "id": "Szu131Tskn53"
      },
      "execution_count": null,
      "outputs": []
    },
    {
      "cell_type": "code",
      "source": [
        "def write_datasets_to_files(X_train, X_dev, X_test):\n",
        "    datasets = {\"train.txt\": X_train, \"validation.txt\": X_dev, \"test.txt\": X_test}\n",
        "    header = (\"level 1\", \"level 2\", \"level 3\")\n",
        "\n",
        "    for filename, data in datasets.items():\n",
        "        with open(filename, \"w\", encoding=\"utf-8\") as f:\n",
        "            f.write(\"\\t\".join(header)+\"\\n\")\n",
        "            f.write(\"\\n\".join(\"\\t\".join(row) for row in data))"
      ],
      "metadata": {
        "id": "8ry8r57ZT76h"
      },
      "execution_count": null,
      "outputs": []
    },
    {
      "cell_type": "code",
      "source": [
        "news = read_table(\n",
        "    db_path=\"/content/drive/MyDrive/english-proficiency/data/textsinlevels.db\",\n",
        "    table_name=\"newsinlevels\"\n",
        "    )\n",
        "\n",
        "news.head()"
      ],
      "metadata": {
        "colab": {
          "base_uri": "https://localhost:8080/",
          "height": 206
        },
        "id": "1O-fD_kR1KNt",
        "outputId": "225e7977-7f9f-421c-c3a1-00bd47edb8ca"
      },
      "execution_count": null,
      "outputs": [
        {
          "output_type": "execute_result",
          "data": {
            "text/plain": [
              "               date                                     heading  \\\n",
              "0  15-01-2022 12:00                           Test your English   \n",
              "1  14-01-2022 15:00  World’s best skater can go to the Olympics   \n",
              "2  14-01-2022 07:00                        Man with a pig heart   \n",
              "3  13-01-2022 15:00                         New mirror in space   \n",
              "4  13-01-2022 07:00                               Hainan towers   \n",
              "\n",
              "                                        article_text  level  \n",
              "0  We have a test for students of English. You ca...      1  \n",
              "1  Erin Jackson is an American athlete. She is th...      1  \n",
              "2  David Bennet comes from Maryland, US. He is 57...      1  \n",
              "3  A rocket goes in space two weeks ago. It carri...      1  \n",
              "4  The Evergrande Group is a Chinese company. It ...      1  "
            ],
            "text/html": [
              "\n",
              "  <div id=\"df-c5b922ab-17ba-4cab-9898-0854efd6b397\">\n",
              "    <div class=\"colab-df-container\">\n",
              "      <div>\n",
              "<style scoped>\n",
              "    .dataframe tbody tr th:only-of-type {\n",
              "        vertical-align: middle;\n",
              "    }\n",
              "\n",
              "    .dataframe tbody tr th {\n",
              "        vertical-align: top;\n",
              "    }\n",
              "\n",
              "    .dataframe thead th {\n",
              "        text-align: right;\n",
              "    }\n",
              "</style>\n",
              "<table border=\"1\" class=\"dataframe\">\n",
              "  <thead>\n",
              "    <tr style=\"text-align: right;\">\n",
              "      <th></th>\n",
              "      <th>date</th>\n",
              "      <th>heading</th>\n",
              "      <th>article_text</th>\n",
              "      <th>level</th>\n",
              "    </tr>\n",
              "  </thead>\n",
              "  <tbody>\n",
              "    <tr>\n",
              "      <th>0</th>\n",
              "      <td>15-01-2022 12:00</td>\n",
              "      <td>Test your English</td>\n",
              "      <td>We have a test for students of English. You ca...</td>\n",
              "      <td>1</td>\n",
              "    </tr>\n",
              "    <tr>\n",
              "      <th>1</th>\n",
              "      <td>14-01-2022 15:00</td>\n",
              "      <td>World’s best skater can go to the Olympics</td>\n",
              "      <td>Erin Jackson is an American athlete. She is th...</td>\n",
              "      <td>1</td>\n",
              "    </tr>\n",
              "    <tr>\n",
              "      <th>2</th>\n",
              "      <td>14-01-2022 07:00</td>\n",
              "      <td>Man with a pig heart</td>\n",
              "      <td>David Bennet comes from Maryland, US. He is 57...</td>\n",
              "      <td>1</td>\n",
              "    </tr>\n",
              "    <tr>\n",
              "      <th>3</th>\n",
              "      <td>13-01-2022 15:00</td>\n",
              "      <td>New mirror in space</td>\n",
              "      <td>A rocket goes in space two weeks ago. It carri...</td>\n",
              "      <td>1</td>\n",
              "    </tr>\n",
              "    <tr>\n",
              "      <th>4</th>\n",
              "      <td>13-01-2022 07:00</td>\n",
              "      <td>Hainan towers</td>\n",
              "      <td>The Evergrande Group is a Chinese company. It ...</td>\n",
              "      <td>1</td>\n",
              "    </tr>\n",
              "  </tbody>\n",
              "</table>\n",
              "</div>\n",
              "      <button class=\"colab-df-convert\" onclick=\"convertToInteractive('df-c5b922ab-17ba-4cab-9898-0854efd6b397')\"\n",
              "              title=\"Convert this dataframe to an interactive table.\"\n",
              "              style=\"display:none;\">\n",
              "        \n",
              "  <svg xmlns=\"http://www.w3.org/2000/svg\" height=\"24px\"viewBox=\"0 0 24 24\"\n",
              "       width=\"24px\">\n",
              "    <path d=\"M0 0h24v24H0V0z\" fill=\"none\"/>\n",
              "    <path d=\"M18.56 5.44l.94 2.06.94-2.06 2.06-.94-2.06-.94-.94-2.06-.94 2.06-2.06.94zm-11 1L8.5 8.5l.94-2.06 2.06-.94-2.06-.94L8.5 2.5l-.94 2.06-2.06.94zm10 10l.94 2.06.94-2.06 2.06-.94-2.06-.94-.94-2.06-.94 2.06-2.06.94z\"/><path d=\"M17.41 7.96l-1.37-1.37c-.4-.4-.92-.59-1.43-.59-.52 0-1.04.2-1.43.59L10.3 9.45l-7.72 7.72c-.78.78-.78 2.05 0 2.83L4 21.41c.39.39.9.59 1.41.59.51 0 1.02-.2 1.41-.59l7.78-7.78 2.81-2.81c.8-.78.8-2.07 0-2.86zM5.41 20L4 18.59l7.72-7.72 1.47 1.35L5.41 20z\"/>\n",
              "  </svg>\n",
              "      </button>\n",
              "      \n",
              "  <style>\n",
              "    .colab-df-container {\n",
              "      display:flex;\n",
              "      flex-wrap:wrap;\n",
              "      gap: 12px;\n",
              "    }\n",
              "\n",
              "    .colab-df-convert {\n",
              "      background-color: #E8F0FE;\n",
              "      border: none;\n",
              "      border-radius: 50%;\n",
              "      cursor: pointer;\n",
              "      display: none;\n",
              "      fill: #1967D2;\n",
              "      height: 32px;\n",
              "      padding: 0 0 0 0;\n",
              "      width: 32px;\n",
              "    }\n",
              "\n",
              "    .colab-df-convert:hover {\n",
              "      background-color: #E2EBFA;\n",
              "      box-shadow: 0px 1px 2px rgba(60, 64, 67, 0.3), 0px 1px 3px 1px rgba(60, 64, 67, 0.15);\n",
              "      fill: #174EA6;\n",
              "    }\n",
              "\n",
              "    [theme=dark] .colab-df-convert {\n",
              "      background-color: #3B4455;\n",
              "      fill: #D2E3FC;\n",
              "    }\n",
              "\n",
              "    [theme=dark] .colab-df-convert:hover {\n",
              "      background-color: #434B5C;\n",
              "      box-shadow: 0px 1px 3px 1px rgba(0, 0, 0, 0.15);\n",
              "      filter: drop-shadow(0px 1px 2px rgba(0, 0, 0, 0.3));\n",
              "      fill: #FFFFFF;\n",
              "    }\n",
              "  </style>\n",
              "\n",
              "      <script>\n",
              "        const buttonEl =\n",
              "          document.querySelector('#df-c5b922ab-17ba-4cab-9898-0854efd6b397 button.colab-df-convert');\n",
              "        buttonEl.style.display =\n",
              "          google.colab.kernel.accessAllowed ? 'block' : 'none';\n",
              "\n",
              "        async function convertToInteractive(key) {\n",
              "          const element = document.querySelector('#df-c5b922ab-17ba-4cab-9898-0854efd6b397');\n",
              "          const dataTable =\n",
              "            await google.colab.kernel.invokeFunction('convertToInteractive',\n",
              "                                                     [key], {});\n",
              "          if (!dataTable) return;\n",
              "\n",
              "          const docLinkHtml = 'Like what you see? Visit the ' +\n",
              "            '<a target=\"_blank\" href=https://colab.research.google.com/notebooks/data_table.ipynb>data table notebook</a>'\n",
              "            + ' to learn more about interactive tables.';\n",
              "          element.innerHTML = '';\n",
              "          dataTable['output_type'] = 'display_data';\n",
              "          await google.colab.output.renderOutput(dataTable, element);\n",
              "          const docLink = document.createElement('div');\n",
              "          docLink.innerHTML = docLinkHtml;\n",
              "          element.appendChild(docLink);\n",
              "        }\n",
              "      </script>\n",
              "    </div>\n",
              "  </div>\n",
              "  "
            ]
          },
          "metadata": {},
          "execution_count": 7
        }
      ]
    },
    {
      "cell_type": "code",
      "source": [
        "dct = group_texts_by_heading(news)\n",
        "X = filter_texts(dct)\n",
        "X_train, X_dev, X_test = get_train_dev_test(X)"
      ],
      "metadata": {
        "id": "9FfWxGiU3civ"
      },
      "execution_count": null,
      "outputs": []
    },
    {
      "cell_type": "code",
      "source": [
        "print(\"Train:\", len(X_train) * 3)\n",
        "print(\"Validation:\", len(X_dev) * 3)\n",
        "print(\"Test:\", len(X_test) * 3)"
      ],
      "metadata": {
        "colab": {
          "base_uri": "https://localhost:8080/"
        },
        "id": "iQNSa7dslReH",
        "outputId": "9bde0e0a-dfd6-496f-a186-c2abd936c0a6"
      },
      "execution_count": null,
      "outputs": [
        {
          "output_type": "stream",
          "name": "stdout",
          "text": [
            "Train: 5844\n",
            "Validation: 1950\n",
            "Test: 1950\n"
          ]
        }
      ]
    },
    {
      "cell_type": "code",
      "source": [
        "X_train[0]"
      ],
      "metadata": {
        "colab": {
          "base_uri": "https://localhost:8080/"
        },
        "id": "oo06Yqvc3-2I",
        "outputId": "d4fe63a8-4a4f-4302-89f0-2eee67614c70"
      },
      "execution_count": null,
      "outputs": [
        {
          "output_type": "execute_result",
          "data": {
            "text/plain": [
              "['Prince Charles is the eldest son of Queen Elizabeth II. He is 71 years old. He is the future King of the UK. Prince Charles is ill. He has the coronavirus. His illness is not very strong. He does not have other health problems. His wife, Camilla, is healthy. Charles and Camilla are in Scotland now. They stay in quarantine . It is not clear when Charles becomes ill. He meets a lot of people. In the UK, there are 11,600 cases of coronavirus. Almost 600 people die. It is not safe for the Queen to stay in London. The Queen is 93 years old. She is healthy. However, she leaves London. She stays at Windsor Castle. It is 19 miles from London.',\n",
              " 'Doctors diagnosed Prince Charles with the coronavirus. He has mild symptoms and apart from the coronavirus he is in good health. It is not clear when he became ill because he has attended many public events recently. Charles is 71 years old, and he is Queen Elizabeth II´s eldest son. He is the first in line to the British throne. His wife, Camilla, tested negative for the coronavirus, and the couple left for Scotland where they stay indoors, and they do not meet other people. In the UK, the coronavirus is spreading fast. The Queen, who last met with her son in the middle of March, moved out of London. The 93-year-old queen is healthy, and she is staying at Windsor Castle currently.',\n",
              " 'Prince Charles has been diagnosed with the coronavirus. Charles, who is 71 years old, is Queen Elizabeth II´s eldest son, and he is first in line to the British throne. A spokesperson for Buckingham Palace said that Charles has mild symptoms, and otherwise remains in good health. It is not clear when exactly Charles contracted the virus because he has carried out many public engagements recently. Charles´s wife, Camilla, the Duchess of Cornwall, tested negative for the coronavirus, and the couple is currently self-isolating in Scotland. The Queen is still healthy and has not seen her son since the middle of March. She temporarily moved to Windsor Castle outside of London while the coronavirus outbreak continues to spread.']"
            ]
          },
          "metadata": {},
          "execution_count": 10
        }
      ]
    },
    {
      "cell_type": "code",
      "source": [
        "write_datasets_to_files(X_train, X_dev, X_test)"
      ],
      "metadata": {
        "id": "4H41NWLxTZx5"
      },
      "execution_count": null,
      "outputs": []
    }
  ]
}